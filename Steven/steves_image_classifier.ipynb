{
 "cells": [
  {
   "cell_type": "markdown",
   "metadata": {},
   "source": [
    "#Developing an AI application\n",
    "\n",
    "Going forward, AI algorithms will be incorporated into more and more everyday applications. For example, you might want to include an image classifier in a smart phone app. To do this, you'd use a deep learning model trained on hundreds of thousands of images as part of the overall application architecture. A large part of software development in the future will be using these types of models as common parts of applications. \n",
    "\n",
    "In this project, you'll train an image classifier to recognize different species of flowers. You can imagine using something like this in a phone app that tells you the name of the flower your camera is looking at. In practice you'd train this classifier, then export it for use in your application. We'll be using [this dataset](http://www.robots.ox.ac.uk/~vgg/data/flowers/102/index.html) of 102 flower categories, you can see a few examples below. \n",
    "\n",
    "<img src='assets/Flowers.png' width=500px>\n",
    "\n",
    "The project is broken down into multiple steps:\n",
    "\n",
    "* Load and preprocess the image dataset\n",
    "* Train the image classifier on your dataset\n",
    "* Use the trained classifier to predict image content\n",
    "\n",
    "We'll lead you through each part which you'll implement in Python.\n",
    "\n",
    "When you've completed this project, you'll have an application that can be trained on any set of labeled images. Here your network will be learning about flowers and end up as a command line application. But, what you do with your new skills depends on your imagination and effort in building a dataset. For example, imagine an app where you take a picture of a car, it tells you what the make and model is, then looks up information about it. Go build your own dataset and make something new.\n",
    "\n",
    "First up is importing the packages you'll need. It's good practice to keep all the imports at the beginning of your code. As you work through this notebook and find you need to import a package, make sure to add the import up here."
   ]
  },
  {
   "cell_type": "code",
   "execution_count": 1,
   "metadata": {},
   "outputs": [],
   "source": [
    "# Imports here\n",
    "\n",
    "%matplotlib inline\n",
    "%config inLineBackend.figure_format = 'retina'\n",
    "import matplotlib.pyplot as plt\n",
    "\n",
    "import torch\n",
    "from torch import nn\n",
    "from torch import optim\n",
    "import torch.nn.functional as F\n",
    "from torchvision import datasets, transforms, models\n"
   ]
  },
  {
   "cell_type": "markdown",
   "metadata": {},
   "source": [
    "## Load the data\n",
    "\n",
    "Here you'll use `torchvision` to load the data ([documentation](http://pytorch.org/docs/0.3.0/torchvision/index.html)). The data should be included alongside this notebook, otherwise you can [download it here](https://s3.amazonaws.com/content.udacity-data.com/nd089/flower_data.tar.gz). The dataset is split into three parts, training, validation, and testing. For the training, you'll want to apply transformations such as random scaling, cropping, and flipping. This will help the network generalize leading to better performance. You'll also need to make sure the input data is resized to 224x224 pixels as required by the pre-trained networks.\n",
    "\n",
    "The validation and testing sets are used to measure the model's performance on data it hasn't seen yet. For this you don't want any scaling or rotation transformations, but you'll need to resize then crop the images to the appropriate size.\n",
    "\n",
    "The pre-trained networks you'll use were trained on the ImageNet dataset where each color channel was normalized separately. For all three sets you'll need to normalize the means and standard deviations of the images to what the network expects. For the means, it's `[0.485, 0.456, 0.406]` and for the standard deviations `[0.229, 0.224, 0.225]`, calculated from the ImageNet images.  These values will shift each color channel to be centered at 0 and range from -1 to 1.\n",
    " "
   ]
  },
  {
   "cell_type": "code",
   "execution_count": 2,
   "metadata": {},
   "outputs": [],
   "source": [
    "data_dir = 'flowers'\n",
    "train_dir = data_dir + '/train'\n",
    "valid_dir = data_dir + '/valid'\n",
    "test_dir = data_dir + '/test'"
   ]
  },
  {
   "cell_type": "code",
   "execution_count": 3,
   "metadata": {},
   "outputs": [],
   "source": [
    "# TODO: Define your transforms for the training, validation, and testing sets\n",
    "\n",
    "traindata_transforms = transforms.Compose([transforms.RandomRotation(30),\n",
    "                                           transforms.RandomResizedCrop(224),\n",
    "                                           transforms.RandomHorizontalFlip(),\n",
    "                                      transforms.ToTensor(),\n",
    "                                     transforms.Normalize([0.485,0.456,0.406],\n",
    "                                                         [0.229,0.224,0.225])])\n",
    "\n",
    "\n",
    "testdata_transforms = transforms.Compose([transforms.RandomResizedCrop(224),\n",
    "                                      transforms.ToTensor(),\n",
    "                                     transforms.Normalize([0.485,0.456,0.406],\n",
    "                                                         [0.229,0.224,0.225])])\n",
    "\n",
    "\n",
    "\n",
    "                                           \n",
    "# TODO: Load the datasets with ImageFolder\n",
    "#image_datasets = comment--created individual ones\n",
    "\n",
    "train_data = datasets.ImageFolder(train_dir, transform = traindata_transforms)\n",
    "valid_data = datasets.ImageFolder(valid_dir, transform = testdata_transforms)\n",
    "test_data = datasets.ImageFolder(test_dir, transform = testdata_transforms)\n",
    "#image_datasets['train'] = datasets.ImageFolder(train_dir,transform = data_transforms)\n",
    "\n",
    "#imagedata=datasets.ImageFolder(test_dir)\n",
    "#for images in imagedata:\n",
    "    \n",
    "\n",
    "\n",
    "# TODO: Using the image datasets and the trainforms, define the dataloaders\n",
    "trainloader = torch.utils.data.DataLoader(train_data, batch_size=64, shuffle = True)\n",
    "validloader = torch.utils.data.DataLoader(valid_data, batch_size=64)\n",
    "testloader = torch.utils.data.DataLoader(test_data, batch_size=64)"
   ]
  },
  {
   "cell_type": "markdown",
   "metadata": {},
   "source": [
    "#Label mapping\n",
    "\n",
    "You'll also need to load in a mapping from category label to category name. You can find this in the file `cat_to_name.json`. It's a JSON object which you can read in with the [`json` module](https://docs.python.org/2/library/json.html). This will give you a dictionary mapping the integer encoded categories to the actual names of the flowers."
   ]
  },
  {
   "cell_type": "code",
   "execution_count": 4,
   "metadata": {},
   "outputs": [],
   "source": [
    "import json\n",
    "\n",
    "with open('cat_to_name.json', 'r') as f:\n",
    "    cat_to_name = json.load(f)\n",
    "\n",
    "#cat_to_name"
   ]
  },
  {
   "cell_type": "code",
   "execution_count": 5,
   "metadata": {},
   "outputs": [],
   "source": [
    "def getclassifier(modeltype):\n",
    "    #load the correct software\n",
    "    \n",
    "    #input: modeltype can be either be vgg or resnet\n",
    "    #resnet is the default\n",
    "    #returns 3 objects: model, classifier and optimizer\n",
    "    \n",
    "    \n",
    "    if modeltype == 'vgg':\n",
    "        model = models.vgg19(pretrained = True)\n",
    "          \n",
    "        for param in model.parameters():\n",
    "            param.requires_grad = False\n",
    "            \n",
    "        classifier = nn.Sequential(nn.Linear(25088,4096),\n",
    "                           nn.ReLU(),\n",
    "                           nn.Dropout(p=0.5),\n",
    "                           nn.Linear(4096,1000),\n",
    "                           nn.ReLU(),\n",
    "                           nn.Dropout(p=0.5),\n",
    "                           nn.Linear(1000,102),\n",
    "                           nn.LogSoftmax(dim=1))\n",
    "        model.classifier = classifier\n",
    "        optimizer  = optim.Adam(model.classifier.parameters(), lr=0.00075)\n",
    "        \n",
    "\n",
    "    else:\n",
    "        model = models.resnet50(pretrained=True)\n",
    "          \n",
    "        for param in model.parameters():\n",
    "            param.requires_grad = False\n",
    "            \n",
    "        classifier = nn.Sequential(nn.Linear(2048,1000),\n",
    "                           nn.ReLU(),\n",
    "                           nn.Dropout(p=0.2),\n",
    "                           nn.Linear(1000,512),\n",
    "                           nn.ReLU(),\n",
    "                           nn.Dropout(p=0.2),\n",
    "                           nn.Linear(512,102),\n",
    "                           nn.LogSoftmax(dim=1))\n",
    "        model.fc = classifier\n",
    "        \n",
    "\n",
    "        optimizer  = optim.Adam(model.fc.parameters(), lr=0.003)\n",
    "      \n",
    "\n",
    "\n",
    "        \n",
    "    return model,classifier,optimizer\n",
    "        "
   ]
  },
  {
   "cell_type": "markdown",
   "metadata": {},
   "source": [
    "# Building and training the classifier\n",
    "\n",
    "Now that the data is ready, it's time to build and train the classifier. As usual, you should use one of the pretrained models from `torchvision.models` to get the image features. Build and train a new feed-forward classifier using those features.\n",
    "\n",
    "We're going to leave this part up to you. Refer to [the rubric](https://review.udacity.com/#!/rubrics/1663/view) for guidance on successfully completing this section. Things you'll need to do:\n",
    "\n",
    "* Load a [pre-trained network](http://pytorch.org/docs/master/torchvision/models.html) (If you need a starting point, the VGG networks work great and are straightforward to use)\n",
    "* Define a new, untrained feed-forward network as a classifier, using ReLU activations and dropout\n",
    "* Train the classifier layers using backpropagation using the pre-trained network to get the features\n",
    "* Track the loss and accuracy on the validation set to determine the best hyperparameters\n",
    "\n",
    "We've left a cell open for you below, but use as many as you need. Our advice is to break the problem up into smaller parts you can run separately. Check that each part is doing what you expect, then move on to the next. You'll likely find that as you work through each part, you'll need to go back and modify your previous code. This is totally normal!\n",
    "\n",
    "When training make sure you're updating only the weights of the feed-forward network. You should be able to get the validation accuracy above 70% if you build everything right. Make sure to try different hyperparameters (learning rate, units in the classifier, epochs, etc) to find the best model. Save those hyperparameters to use as default values in the next part of the project.\n",
    "\n",
    "One last important tip if you're using the workspace to run your code: To avoid having your workspace disconnect during the long-running tasks in this notebook, please read in the earlier page in this lesson called Intro to\n",
    "GPU Workspaces about Keeping Your Session Active. You'll want to include code from the workspace_utils.py module.\n",
    "\n",
    "**Note for Workspace users:** If your network is over 1 GB when saved as a checkpoint, there might be issues with saving backups in your workspace. Typically this happens with wide dense layers after the convolutional layers. If your saved checkpoint is larger than 1 GB (you can open a terminal and check with `ls -lh`), you should reduce the size of your hidden layers and train again."
   ]
  },
  {
   "cell_type": "code",
   "execution_count": 6,
   "metadata": {},
   "outputs": [
    {
     "name": "stderr",
     "output_type": "stream",
     "text": [
      "Downloading: \"https://download.pytorch.org/models/vgg19-dcbb9e9d.pth\" to /root/.torch/models/vgg19-dcbb9e9d.pth\n",
      "100%|██████████| 574673361/574673361 [00:09<00:00, 62207494.29it/s]\n"
     ]
    },
    {
     "name": "stdout",
     "output_type": "stream",
     "text": [
      "Epoch1/1..Train loss: 4.772..Test loss: 4.102..Test accuracy: 0.109\n",
      "Epoch1/1..Train loss: 4.029..Test loss: 3.495..Test accuracy: 0.230\n",
      "Epoch1/1..Train loss: 3.392..Test loss: 2.737..Test accuracy: 0.349\n",
      "Epoch1/1..Train loss: 3.003..Test loss: 2.285..Test accuracy: 0.445\n",
      "Epoch1/1..Train loss: 2.631..Test loss: 1.933..Test accuracy: 0.500\n",
      "END OF RUN\n"
     ]
    }
   ],
   "source": [
    "# TODO: Build and train your network\n",
    "\n",
    "\n",
    "# Use GPU if it's available\n",
    "#device = torch.device( \"cuda:\" if torch.cuda.is_available() else \"cpu\")\n",
    "\n",
    "if torch.cuda.is_available():\n",
    "    device = 'cuda'\n",
    "    \n",
    "else:\n",
    "    device = 'cpu'\n",
    "    \n",
    "\n",
    "#print(classifier)\n",
    "#print(optimizer)\n",
    "\n",
    "    \n",
    "criterion = nn.NLLLoss()\n",
    "model,classifier, optimizer = getclassifier('vgg')\n",
    "\n",
    "\n",
    "\n",
    "\n",
    "model.to(device)\n",
    "\n",
    "epochs = 1\n",
    "steps = 0\n",
    "running_loss = 0\n",
    "print_every = 20\n",
    "model.train()\n",
    "for epoch in range(epochs):\n",
    "    for inputs, labels in trainloader:\n",
    "        steps +=1\n",
    "        inputs, labels =inputs.to(device), labels.to(device)\n",
    "        \n",
    "        logps = model.forward(inputs)\n",
    "        loss = criterion(logps, labels)\n",
    "        \n",
    "        optimizer.zero_grad()\n",
    "        loss.backward()\n",
    "        optimizer.step()\n",
    "        running_loss += loss.item() \n",
    "        #print('The running loss is ',running_loss)\n",
    "        \n",
    "        if steps % print_every == 0:\n",
    "            test_loss = 0\n",
    "            accuracy  = 0 \n",
    "           \n",
    "            with torch.no_grad():\n",
    "                model.eval()\n",
    "                for inputs, labels in validloader:\n",
    "                    inputs, labels  = inputs.to(device), labels.to(device)\n",
    "                    #print(labels)\n",
    "                    logps = model.forward(inputs)\n",
    "                    batch_loss = criterion(logps, labels)\n",
    "                    test_loss += batch_loss.item()\n",
    "                    \n",
    "                #Calculating accuracy \n",
    "                    ps = torch.exp(logps)\n",
    "                    top_p, top_class  = ps.topk(1,dim=1)\n",
    "                    equals = top_class == labels.view(*top_class.shape)\n",
    "                    accuracy += torch.mean(equals.type(torch.FloatTensor)).item()\n",
    "                    \n",
    "            print(f\"Epoch{epoch+1}/{epochs}..\"\n",
    "                    f\"Train loss: {running_loss /print_every:.3f}..\"\n",
    "                    f\"Test loss: {test_loss/len(validloader):.3f}..\"\n",
    "                    f\"Test accuracy: {accuracy/len(validloader):.3f}\")\n",
    "            running_loss=0\n",
    "            model.train()\n",
    "                \n",
    "print(\"END OF RUN\")"
   ]
  },
  {
   "cell_type": "markdown",
   "metadata": {},
   "source": [
    "##Testing your network\n",
    "\n",
    "It's good practice to test your trained network on test data, images the network has never seen either in training or validation. This will give you a good estimate for the model's performance on completely new images. Run the test images through the network and measure the accuracy, the same way you did validation. You should be able to reach around 70% accuracy on the test set if the model has been trained well."
   ]
  },
  {
   "cell_type": "code",
   "execution_count": 8,
   "metadata": {},
   "outputs": [
    {
     "name": "stdout",
     "output_type": "stream",
     "text": [
      "Test loss: 0.227..Test accuracy: 0.016\n",
      "Test loss: 0.414..Test accuracy: 0.041\n",
      "Test loss: 0.581..Test accuracy: 0.076\n",
      "Test loss: 0.804..Test accuracy: 0.093\n",
      "Test loss: 0.903..Test accuracy: 0.145\n",
      "Test loss: 1.097..Test accuracy: 0.173\n",
      "Test loss: 1.226..Test accuracy: 0.221\n",
      "Test loss: 1.372..Test accuracy: 0.266\n",
      "Test loss: 1.450..Test accuracy: 0.326\n",
      "Test loss: 1.554..Test accuracy: 0.379\n",
      "Test loss: 1.750..Test accuracy: 0.409\n",
      "Test loss: 1.920..Test accuracy: 0.439\n",
      "Test loss: 2.068..Test accuracy: 0.476\n"
     ]
    }
   ],
   "source": [
    "# TODO: Do validation on the test set\n",
    "#running_loss=0\n",
    "test_loss=0\n",
    "accuracy=0\n",
    "for inputs,labels in testloader:\n",
    "    with torch.no_grad():\n",
    "        model.eval()\n",
    "        inputs, labels  = inputs.to(device), labels.to(device)\n",
    "        logps = model.forward(inputs)\n",
    "        batch_loss = criterion(logps, labels)\n",
    "        test_loss += batch_loss.item()\n",
    "                    \n",
    "        #Calculating accuracy \n",
    "        ps = torch.exp(logps)\n",
    "        top_p, top_class  = ps.topk(1,dim=1)\n",
    "        equals = top_class == labels.view(*top_class.shape)\n",
    "        accuracy += torch.mean(equals.type(torch.FloatTensor)).item()\n",
    "        print(f\"Test loss: {test_loss/len(testloader):.3f}..\"\n",
    "        f\"Test accuracy: {accuracy/len(testloader):.3f}\")\n",
    "\n",
    "#model.train()\n",
    "                \n"
   ]
  },
  {
   "cell_type": "markdown",
   "metadata": {},
   "source": [
    "## Save the checkpoint\n",
    "\n",
    "Now that your network is trained, save the model so you can load it later for making predictions. You probably want to save other things such as the mapping of classes to indices which you get from one of the image datasets: `image_datasets['train'].class_to_idx`. You can attach this to the model as an attribute which makes inference easier later on.\n",
    "\n",
    "```model.class_to_idx = image_datasets['train'].class_to_idx```\n",
    "\n",
    "Remember that you'll want to completely rebuild the model later so you can use it for inference. Make sure to include any information you need in the checkpoint. If you want to load the model and keep training, you'll want to save the number of epochs as well as the optimizer state, `optimizer.state_dict`. You'll likely want to use this trained model in the next part of the project, so best to save it now."
   ]
  },
  {
   "cell_type": "code",
   "execution_count": 9,
   "metadata": {},
   "outputs": [],
   "source": [
    "# TODO: Save the checkpoint \n",
    "#model.class_to_idx = image_datasets['train'].class_to_idx\n",
    "#did not save training data in a dictionary, each training data was a seperate variable.\n",
    "#saving off training date, # of epochs, optimizer and category dictionary\n",
    "\n",
    "model.class_to_idx = train_data.class_to_idx\n",
    "model.epochs=epochs\n",
    "model.cat_to_name = cat_to_name\n",
    "model.state_dict = model.state_dict()\n",
    "model.optimizer = optimizer.state_dict()\n",
    "#model.state = model.state_dict()\n",
    "\n",
    "\n",
    "torch.save(model,'checkpoint1.pth')\n"
   ]
  },
  {
   "cell_type": "markdown",
   "metadata": {},
   "source": [
    "## Loading the checkpoint\n",
    "\n",
    "At this point it's good to write a function that can load a checkpoint and rebuild the model. That way you can come back to this project and keep working on it without having to retrain the network."
   ]
  },
  {
   "cell_type": "code",
   "execution_count": 10,
   "metadata": {},
   "outputs": [],
   "source": [
    "# TODO: Write a function that loads a checkpoint and rebuilds the model\n",
    "def load_checkpoint(filepath):\n",
    "    model = torch.load(filepath)\n",
    "    return model\n",
    "\n",
    "\n"
   ]
  },
  {
   "cell_type": "markdown",
   "metadata": {},
   "source": [
    "# Inference for classification\n",
    "\n",
    "Now you'll write a function to use a trained network for inference. That is, you'll pass an image into the network and predict the class of the flower in the image. Write a function called `predict` that takes an image and a model, then returns the top $K$ most likely classes along with the probabilities. It should look like \n",
    "\n",
    "```python\n",
    "probs, classes = predict(image_path, model)\n",
    "print(probs)\n",
    "print(classes)\n",
    "> [ 0.01558163  0.01541934  0.01452626  0.01443549  0.01407339]\n",
    "> ['70', '3', '45', '62', '55']\n",
    "```\n",
    "\n",
    "First you'll need to handle processing the input image such that it can be used in your network. \n",
    "\n",
    "## Image Preprocessing\n",
    "\n",
    "You'll want to use `PIL` to load the image ([documentation](https://pillow.readthedocs.io/en/latest/reference/Image.html)). It's best to write a function that preprocesses the image so it can be used as input for the model. This function should process the images in the same manner used for training. \n",
    "\n",
    "First, resize the images where the shortest side is 256 pixels, keeping the aspect ratio. This can be done with the [`thumbnail`](http://pillow.readthedocs.io/en/3.1.x/reference/Image.html#PIL.Image.Image.thumbnail) or [`resize`](http://pillow.readthedocs.io/en/3.1.x/reference/Image.html#PIL.Image.Image.thumbnail) methods. Then you'll need to crop out the center 224x224 portion of the image.\n",
    "\n",
    "Color channels of images are typically encoded as integers 0-255, but the model expected floats 0-1. You'll need to convert the values. It's easiest with a Numpy array, which you can get from a PIL image like so `np_image = np.array(pil_image)`.\n",
    "\n",
    "As before, the network expects the images to be normalized in a specific way. For the means, it's `[0.485, 0.456, 0.406]` and for the standard deviations `[0.229, 0.224, 0.225]`. You'll want to subtract the means from each color channel, then divide by the standard deviation. \n",
    "\n",
    "And finally, PyTorch expects the color channel to be the first dimension but it's the third dimension in the PIL image and Numpy array. You can reorder dimensions using [`ndarray.transpose`](https://docs.scipy.org/doc/numpy-1.13.0/reference/generated/numpy.ndarray.transpose.html). The color channel needs to be first and retain the order of the other two dimensions."
   ]
  },
  {
   "cell_type": "markdown",
   "metadata": {},
   "source": [
    "To check your work, the function below converts a PyTorch tensor and displays it in the notebook. If your `process_image` function works, running the output through this function should return the original image (except for the cropped out portions)."
   ]
  },
  {
   "cell_type": "code",
   "execution_count": 134,
   "metadata": {},
   "outputs": [],
   "source": [
    "def imshow(image, ax=None, title=None):\n",
    "    \"\"\"Imshow for Tensor.\"\"\"\n",
    "    if ax is None:\n",
    "        fig, ax = plt.subplots()\n",
    "    import numpy as np\n",
    "    # PyTorch tensors assume the color channel is the first dimension\n",
    "    # but matplotlib assumes is the third dimension\n",
    "    image = image.numpy().transpose((1, 2, 0))\n",
    "    \n",
    "    # Undo preprocessing\n",
    "    mean = np.array([0.485, 0.456, 0.406])\n",
    "    std = np.array([0.229, 0.224, 0.225])\n",
    "    image = std * image + mean\n",
    "    \n",
    "    # Image needs to be clipped between 0 and 1 or it looks like noise when displayed\n",
    "    image = np.clip(image, 0, 1)\n",
    "    ax.axis('off') #added this \n",
    "    ax.imshow(image)\n",
    "    \n",
    "    return ax"
   ]
  },
  {
   "cell_type": "code",
   "execution_count": 208,
   "metadata": {},
   "outputs": [],
   "source": [
    "from PIL import Image\n",
    "from math import floor"
   ]
  },
  {
   "cell_type": "code",
   "execution_count": 212,
   "metadata": {},
   "outputs": [],
   "source": [
    "def process_image(image):\n",
    "    ''' Scales, crops, and normalizes a PIL image for a PyTorch model,\n",
    "        returns an Numpy array\n",
    "    '''\n",
    "    \n",
    "    # TODO: Process a PIL image for use in a PyTorch model\n",
    "    image = Image.open(image)\n",
    "    width, height = image.size\n",
    "    \n",
    "    size = 256, 256\n",
    "    if width > height:\n",
    "        ratio = float(width) / float(height)\n",
    "        newheight = ratio * size[0]\n",
    "        image = image.resize((size[0], int(floor(newheight))))\n",
    "    else:\n",
    "        ratio = float(height) / float(width)\n",
    "        newwidth = ratio * size[0]\n",
    "        image = image.resize((int(floor(newwidth)), size[0]))\n",
    "    \n",
    "    image = image.crop((\n",
    "        size[0] //2 - (224/2),\n",
    "        size[1] //2 - (224/2),\n",
    "        size[0] //2 + (224/2),\n",
    "        size[1] //2 + (224/2))\n",
    "    )\n",
    "    im_arr = np.array(image)/255\n",
    "    im_arr[:,:,0] = (im_arr[:,:,0] - 0.485)/(0.229)\n",
    "    im_arr[:,:,1] = (im_arr[:,:,1] - 0.456)/(0.224)\n",
    "    im_arr[:,:,2] = (im_arr[:,:,2] - 0.406)/(0.225)\n",
    "    im_arr = np.transpose(im_arr, (2,0,1))\n",
    "    \n",
    "    return torch.FloatTensor([im_arr])"
   ]
  },
  {
   "cell_type": "code",
   "execution_count": 213,
   "metadata": {},
   "outputs": [],
   "source": [
    "def imshow(image, ax=None, title=None):\n",
    "    \"\"\"Imshow for Tensor.\"\"\"\n",
    "    if ax is None:\n",
    "        fig, ax = plt.subplots()\n",
    "    \n",
    "    # PyTorch tensors assume the color channel is the first dimension\n",
    "    # but matplotlib assumes is the third dimension\n",
    "    image = image.numpy()[0].transpose((1, 2, 0))\n",
    "    \n",
    "    # Undo preprocessing\n",
    "    mean = np.array([0.485, 0.456, 0.406])\n",
    "    std = np.array([0.229, 0.224, 0.225])\n",
    "    image = std * image + mean\n",
    "    \n",
    "    # Image needs to be clipped between 0 and 1 or it looks like noise when displayed\n",
    "    image = np.clip(image, 0, 1)\n",
    "    \n",
    "    ax.imshow(image)\n",
    "    \n",
    "    return ax"
   ]
  },
  {
   "cell_type": "code",
   "execution_count": 214,
   "metadata": {},
   "outputs": [
    {
     "data": {
      "text/plain": [
       "torch.Size([1, 3, 224, 224])"
      ]
     },
     "execution_count": 214,
     "metadata": {},
     "output_type": "execute_result"
    },
    {
     "data": {
      "image/png": "[encoded data removed]",
      "text/plain": [
       "<matplotlib.figure.Figure at 0x7fe41c17e630>"
      ]
     },
     "metadata": {
      "needs_background": "light"
     },
     "output_type": "display_data"
    }
   ],
   "source": [
    "processed_image = process_image('flowers/train/43/image_02322.jpg')\n",
    "imshow(processed_image)\n",
    "processed_image.shape"
   ]
  },
  {
   "cell_type": "markdown",
   "metadata": {},
   "source": [
    "## Class Prediction\n",
    "\n",
    "Once you can get images in the correct format, it's time to write a function for making predictions with your model. A common practice is to predict the top 5 or so (usually called top-$K$) most probable classes. You'll want to calculate the class probabilities then find the $K$ largest values.\n",
    "\n",
    "To get the top $K$ largest values in a tensor use [`x.topk(k)`](http://pytorch.org/docs/master/torch.html#torch.topk). This method returns both the highest `k` probabilities and the indices of those probabilities corresponding to the classes. You need to convert from these indices to the actual class labels using `class_to_idx` which hopefully you added to the model or from an `ImageFolder` you used to load the data ([see here](#Save-the-checkpoint)). Make sure to invert the dictionary so you get a mapping from index to class as well.\n",
    "\n",
    "Again, this method should take a path to an image and a model checkpoint, then return the probabilities and classes.\n",
    "\n",
    "```python\n",
    "probs, classes = predict(image_path, model)\n",
    "print(probs)\n",
    "print(classes)\n",
    "> [ 0.01558163  0.01541934  0.01452626  0.01443549  0.01407339]\n",
    "> ['70', '3', '45', '62', '55']\n",
    "```"
   ]
  },
  {
   "cell_type": "code",
   "execution_count": 215,
   "metadata": {},
   "outputs": [],
   "source": [
    "def predict(image_path, model):\n",
    "    ''' Predict the class (or classes) of an image using a trained deep learning model.\n",
    "    '''\n",
    "    if torch.cuda.is_available():\n",
    "        device = 'cuda'\n",
    "        print('device is cuda')\n",
    "    \n",
    "    else:\n",
    "        device = 'cpu'\n",
    "    \n",
    "    \n",
    "    image = process_image(image_path)\n",
    "    \n",
    "    image = image.to(device)\n",
    "    print('predict image after unsqueezing',image.device)\n",
    "\n",
    "    \n",
    "    with torch.no_grad():\n",
    "                \n",
    "        output = model.forward(image)\n",
    "        ps = torch.exp(output)\n",
    "        top_p,top_class = ps.topk(5,dim=1)\n",
    "    \n",
    "    return top_p.cpu().numpy()[0],top_class.cpu().numpy()[0]\n",
    "    \n"
   ]
  },
  {
   "cell_type": "code",
   "execution_count": 216,
   "metadata": {},
   "outputs": [
    {
     "name": "stdout",
     "output_type": "stream",
     "text": [
      "device is cuda\n",
      "predict image after unsqueezing cuda:0\n",
      "[ 0.20769995  0.10250267  0.09626986  0.0775668   0.0599915 ]\n",
      "[72 56 26 49  5]\n"
     ]
    }
   ],
   "source": [
    "probs, classes = predict('flowers/train/43/image_02322.jpg', model)\n",
    "print(probs)\n",
    "print(classes)"
   ]
  },
  {
   "cell_type": "markdown",
   "metadata": {},
   "source": [
    "## Sanity Checking\n",
    "\n",
    "Now that you can use a trained model for predictions, check to make sure it makes sense. Even if the testing accuracy is high, it's always good to check that there aren't obvious bugs. Use `matplotlib` to plot the probabilities for the top 5 classes as a bar graph, along with the input image. It should look like this:\n",
    "\n",
    "<img src='assets/inference_example.png' width=300px>\n",
    "\n",
    "You can convert from the class integer encoding to actual flower names with the `cat_to_name.json` file (should have been loaded earlier in the notebook). To show a PyTorch tensor as an image, use the `imshow` function defined above."
   ]
  },
  {
   "cell_type": "code",
   "execution_count": 185,
   "metadata": {},
   "outputs": [],
   "source": [
    "def get_classifications(cat_dict,number_list):\n",
    "    cat_list=[]\n",
    "    for item in number_array:\n",
    "        cat_list.append(cat_dict[item])\n",
    "    \n",
    "    return cat_list"
   ]
  },
  {
   "cell_type": "code",
   "execution_count": 186,
   "metadata": {},
   "outputs": [
    {
     "name": "stdout",
     "output_type": "stream",
     "text": [
      "device is cuda\n",
      "predict image after unsqueezing cuda:0\n",
      "inside predict after forward cuda\n"
     ]
    }
   ],
   "source": [
    "# TODO: Display an image along with the top 5 classes\n",
    "#***IMPORTANT:  Based on the Knowledge Center I chose an arbitrary image.\n",
    "#loading model\n",
    "model.to(device)\n",
    "image_path = 'flowers/test/2/image_05125.jpg'\n",
    "#new_image =process_image(image_path)\n",
    "#imshow(new_image)\n",
    "\n",
    "\n",
    "top_p,top_class  = predict(image_path,model)\n",
    "#top_p\n",
    "#top_class\n",
    "\n",
    "\n"
   ]
  },
  {
   "cell_type": "code",
   "execution_count": null,
   "metadata": {},
   "outputs": [],
   "source": []
  },
  {
   "cell_type": "code",
   "execution_count": null,
   "metadata": {},
   "outputs": [],
   "source": []
  }
 ],
 "metadata": {
  "kernelspec": {
   "display_name": "Python 3",
   "language": "python",
   "name": "python3"
  },
  "language_info": {
   "codemirror_mode": {
    "name": "ipython",
    "version": 3
   },
   "file_extension": ".py",
   "mimetype": "text/x-python",
   "name": "python",
   "nbconvert_exporter": "python",
   "pygments_lexer": "ipython3",
   "version": "3.6.3"
  }
 },
 "nbformat": 4,
 "nbformat_minor": 2
}
